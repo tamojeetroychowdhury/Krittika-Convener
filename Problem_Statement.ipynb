{
 "cells": [
  {
   "cell_type": "markdown",
   "id": "d5c6e7d4",
   "metadata": {},
   "source": [
    "# Krittika Convener Selection\n",
    "## Python Assignment\n",
    "\n",
    "1. You may find the KSP tutorials useful: https://github.com/krittikaiitb/tutorials - Tutorials 1,2,3, and 4 are particularly relevant. These cover basic python, numpy, functions in python and matplotlib respectively.\n",
    "\n",
    "2. A helpful reminder that executing a cell with help (for example: help(np.loadtxt) or np.loadtxt?) will show the documentation for that function.\n",
    "\n",
    "3. The use of internet is completely ALLOWED for solving this assignment.\n",
    "\n",
    "4. Feel free to use multiple cells for your solutions, this would make your code easier to understand in a step-by-step fashion. But keep them separate for each question (don't use a cell to solve Q1 after Q2).\n",
    "\n",
    "5. Try to keep your code neat and make use of comments and/or markdown cells to explain what you have done."
   ]
  },
  {
   "cell_type": "code",
   "execution_count": null,
   "id": "ee984c1c",
   "metadata": {},
   "outputs": [],
   "source": [
    "# try to put all your imports here\n"
   ]
  },
  {
   "cell_type": "markdown",
   "id": "f5528a29",
   "metadata": {},
   "source": [
    "### Q1: Parsing Form Responses\n",
    "Suppose that you are a convener and it has been a few months into your tenure. We have organized an event focused at the newly joining freshers(your juniors).\n",
    "\n",
    "We floated a Google form to collect their details and get them registered. We planned to contact them all via WebMail to send them details of the event.\n",
    "\n",
    "While going through the responses, you discover that your co-convener forgot to filter inputs in the form! There appear to be many invalid roll numbers - we cannot contact these students via WebMail. Here are the first few entries:\n",
    "\n",
    "| Sr. No. | Name | Roll Number | Contact Number |\n",
    "|---------|------|-------------|----------------|\n",
    "| 1       | MV   | 220070044   | 986937546      |\n",
    "| 2       | DV   | 22b280013   | 961101307      |\n",
    "| 3       | RR   | 21070042    | 908204532      |\n",
    "| 4       | YB   | 220030019   | 947226579      |\n",
    "\n",
    "As you can see, we can already see an erroneous LDAP in the $3$rd input.\n",
    "\n",
    "Your task here is to find out the submissions with wrong roll numbers and filter them out. We would reach out to such people using their contact numbers. Your final output should be the names and contact numbers of these people.\n",
    "\n",
    "*PS : As you might suspect, this data is sourced from an actual event from our tenure. It has been anonymized and the errors have been exaggerated :)*"
   ]
  },
  {
   "cell_type": "code",
   "execution_count": null,
   "id": "00a71113",
   "metadata": {},
   "outputs": [],
   "source": [
    "file1 = 'Dataset_Q1.csv' #this is the CSV file that countains all the responses"
   ]
  },
  {
   "cell_type": "markdown",
   "id": "8919e459",
   "metadata": {},
   "source": [
    "Feel free to use any libraries/standard functions that you might need to solve this problem."
   ]
  },
  {
   "cell_type": "code",
   "execution_count": null,
   "id": "ea8f7e8b",
   "metadata": {},
   "outputs": [],
   "source": [
    "# Solution code\n"
   ]
  },
  {
   "cell_type": "markdown",
   "id": "801e187a",
   "metadata": {},
   "source": [
    "#### Bonus part:\n",
    "Amongst the valid entries, what proportion are actually freshers? Remember that we intended to target them with this event. The majority seem to be freshers but you will also find some second and third year students. You can identify each of these groups by the first two digits of their roll numbers. \n",
    "\n",
    "Your task is to graphically depict the number of applicants across the three batches."
   ]
  },
  {
   "cell_type": "code",
   "execution_count": null,
   "id": "e4ea5290",
   "metadata": {},
   "outputs": [],
   "source": [
    "# Solution code\n"
   ]
  },
  {
   "cell_type": "markdown",
   "id": "9d1911c6",
   "metadata": {},
   "source": [
    "### Q2: A New Discovery\n",
    "During one of our regular stargazing sessions, you and your co-conveners discover a new blip of light that shouldn't be there. After examining it a bit, you realise that this object is not quite like anything the world has seen before. You share your data with club seniors and make a startling find - its the first of its kind of a completely new class of objects. An ex-secy of the club, Siddhant Tripathy, analyses it extensively and declares that its actually the first ever **endoplanet** to be found. You and your team are now international celebrities, but its time to organise an event so that people from insti can see this.\n",
    "\n",
    "Your task is to find out when exactly Tripps' endoplanet would be at its brightest and organise a stargazing session on that date so that everyone can see it for themselves. You have data from a month of observations of this object and you need to extrapolate it to find the peak."
   ]
  },
  {
   "cell_type": "code",
   "execution_count": null,
   "id": "9e7d5141",
   "metadata": {},
   "outputs": [],
   "source": [
    "file2 = 'Dataset_Q2.csv'"
   ]
  },
  {
   "cell_type": "markdown",
   "id": "99dc43d3",
   "metadata": {},
   "source": [
    "According to your analysis, this object is in a special orbit that gives it a roughly Gaussian light curve i.e. the plot of [magnitude](https://en.wikipedia.org/wiki/Apparent_magnitude) v/s time roughly follows an inverted Gaussian function. Recall that a generic Gaussian function with unit amplitude is given by\n",
    "\n",
    "$$f(x) = \\frac{1}{\\sigma\\sqrt{2\\pi}}\\exp\\left({-\\frac{1}{2}{\\left(\\frac{x-\\mu}{\\sigma}\\right)}^2}\\right)$$ \n",
    "\n",
    "where $\\mu$ is the mean of the distribution it describes and $\\sigma$ is the standard deviation. More about it [here](https://archive.lib.msu.edu/crcmath/math/math/g/g087.htm).\n",
    "\n",
    "Your task is to find the date at which the comet will be at it's brightest, along with how bright its expected to be. Also plot the original data along with the fitted curve.\n",
    "\n",
    "You can do this by fitting a gaussian to the light curve data and locating its extremum. You may find `scipy.optimize.curve_fit` useful. \n",
    "\n",
    "**Important** : Our fit function must be a Gaussian with a vertical offset. The problem is that `curve_fit` tends to misbehave in this particular example when you ask it to guess that offset, so assume it to be $9.0$ to solve this problem. This, of course, implies that the baseline magnitude of the object is $9.0$"
   ]
  },
  {
   "cell_type": "code",
   "execution_count": null,
   "id": "cf3750af",
   "metadata": {},
   "outputs": [],
   "source": [
    "# Solution code\n"
   ]
  },
  {
   "cell_type": "markdown",
   "id": "13da0dc1",
   "metadata": {},
   "source": [
    "#### Bonus part:\n",
    "\n",
    "Can this date be trusted? We wouldn't want to claim the comet is the brightest on a particular day and then have it brighten up even more later. Try to ascertain the error in this predicted date. Read the documentation of `curve_fit` and try to understand the statistical significance of the quantities it returns."
   ]
  },
  {
   "cell_type": "code",
   "execution_count": null,
   "id": "08d245f9",
   "metadata": {},
   "outputs": [],
   "source": [
    "# Solution code\n"
   ]
  }
 ],
 "metadata": {
  "kernelspec": {
   "display_name": "Python 3",
   "language": "python",
   "name": "python3"
  },
  "language_info": {
   "codemirror_mode": {
    "name": "ipython",
    "version": 3
   },
   "file_extension": ".py",
   "mimetype": "text/x-python",
   "name": "python",
   "nbconvert_exporter": "python",
   "pygments_lexer": "ipython3",
   "version": "3.8.8"
  }
 },
 "nbformat": 4,
 "nbformat_minor": 5
}

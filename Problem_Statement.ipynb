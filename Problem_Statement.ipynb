{
  "cells": [
    {
      "cell_type": "markdown",
      "id": "d5c6e7d4",
      "metadata": {
        "id": "d5c6e7d4"
      },
      "source": [
        "# Krittika Convener Selection\n",
        "## Python Assignment\n",
        "\n",
        "1. You may find the KSP tutorials useful: https://github.com/krittikaiitb/tutorials - Tutorials 1,2,3, and 4 are particularly relevant. These cover basic python, numpy, functions in python and matplotlib respectively.\n",
        "\n",
        "2. A helpful reminder that executing a cell with help (for example: help(np.loadtxt) or np.loadtxt?) will show the documentation for that function.\n",
        "\n",
        "3. The use of internet is completely ALLOWED for solving this assignment.\n",
        "\n",
        "4. Feel free to use multiple cells for your solutions, this would make your code easier to understand in a step-by-step fashion. But keep them separate for each question (don't use a cell to solve Q1 after Q2).\n",
        "\n",
        "5. Try to keep your code neat and make use of comments and/or markdown cells to explain what you have done."
      ]
    },
    {
      "cell_type": "code",
      "execution_count": 2,
      "id": "ee984c1c",
      "metadata": {
        "id": "ee984c1c"
      },
      "outputs": [],
      "source": [
        "import csv\n",
        "import numpy as np\n",
        "from scipy.optimize import curve_fit\n",
        "import matplotlib.pyplot as plt\n",
        "from math import e\n",
        "from datetime import date, timedelta"
      ]
    },
    {
      "cell_type": "markdown",
      "id": "f5528a29",
      "metadata": {
        "id": "f5528a29"
      },
      "source": [
        "### Q1: Parsing Form Responses\n",
        "Suppose that you are a convener and it has been a few months into your tenure. We have organized an event focused at the newly joining freshers(your juniors).\n",
        "\n",
        "We floated a Google form to collect their details and get them registered. We planned to contact them all via WebMail to send them details of the event.\n",
        "\n",
        "While going through the responses, you discover that your co-convener forgot to filter inputs in the form! There appear to be many invalid roll numbers - we cannot contact these students via WebMail. Here are the first few entries:\n",
        "\n",
        "| Sr. No. | Name | Roll Number | Contact Number |\n",
        "|---------|------|-------------|----------------|\n",
        "| 1       | MV   | 220070044   | 986937546      |\n",
        "| 2       | DV   | 22b280013   | 961101307      |\n",
        "| 3       | RR   | 21070042    | 908204532      |\n",
        "| 4       | YB   | 220030019   | 947226579      |\n",
        "\n",
        "As you can see, we can already see an erroneous LDAP in the $3$rd input.\n",
        "\n",
        "Your task here is to find out the submissions with wrong roll numbers and filter them out. We would reach out to such people using their contact numbers. Your final output should be the names and contact numbers of these people.\n",
        "\n",
        "*PS : As you might suspect, this data is sourced from an actual event from our tenure. It has been anonymized and the errors have been exaggerated :)*"
      ]
    },
    {
      "cell_type": "code",
      "execution_count": null,
      "id": "00a71113",
      "metadata": {
        "id": "00a71113"
      },
      "outputs": [],
      "source": [
        "file1 = 'Dataset_Q1.csv' #this is the CSV file that countains all the responses"
      ]
    },
    {
      "cell_type": "markdown",
      "id": "8919e459",
      "metadata": {
        "id": "8919e459"
      },
      "source": [
        "Feel free to use any libraries/standard functions that you might need to solve this problem."
      ]
    },
    {
      "cell_type": "code",
      "execution_count": null,
      "id": "ea8f7e8b",
      "metadata": {
        "id": "ea8f7e8b"
      },
      "outputs": [],
      "source": [
        "with open(\"Dataset_Q1.csv\",\"r\",newline=\"\\n\") as f:    #if newline is not specified an empty list is added after each row of data\n",
        "    r = csv.reader(f)\n",
        "    for i in r:\n",
        "        if i[1]=='Name':    #excluding the heading line\n",
        "            continue\n",
        "        if len(i[2].strip())!=9:     #if roll number does not have 9 digits\n",
        "            print(\"Name: \",i[1],\"  Contact: \",i[3])\n",
        "        elif int(i[2][0:2]) > 22:    #if roll number has admission year > 2022\n",
        "            print(\"Name: \",i[1],\"  Contact: \",i[3])\n"
      ]
    },
    {
      "cell_type": "markdown",
      "id": "801e187a",
      "metadata": {
        "id": "801e187a"
      },
      "source": [
        "#### Bonus part:\n",
        "Amongst the valid entries, what proportion are actually freshers? Remember that we intended to target them with this event. The majority seem to be freshers but you will also find some second and third year students. You can identify each of these groups by the first two digits of their roll numbers. \n",
        "\n",
        "Your task is to graphically depict the number of applicants across the three batches."
      ]
    },
    {
      "cell_type": "code",
      "execution_count": null,
      "id": "e4ea5290",
      "metadata": {
        "id": "e4ea5290"
      },
      "outputs": [],
      "source": [
        "numbers = [0,0,0]\n",
        "with open(\"Dataset_Q1.csv\",\"r\",newline=\"\\n\") as f:\n",
        "    r = csv.reader(f)\n",
        "    for i in r:\n",
        "        if len(i[2].strip())!=9:\n",
        "            continue\n",
        "        elif int(i[2][0:2]) > 22:   #excluding the invalid entries\n",
        "            continue\n",
        "        else:\n",
        "            numbers[(22 - int(i[2][0:2]))] += 1    #freshies: first two digits are 22, so numbers[0] is incremented. For sophies, numbers[1] and so on.\n",
        "\n",
        "tags = ['Freshies', 'Sophies', 'Thirdies']\n",
        "plt.bar(tags, numbers, width = 0.5)\n",
        "plt.ylabel(\"Number registered\")\n",
        "for i, v in enumerate(numbers):\n",
        "    plt.text(i-0.05, v+0.1, str(v))\n",
        "\n",
        "plt.show()\n"
      ]
    },
    {
      "cell_type": "markdown",
      "id": "9d1911c6",
      "metadata": {
        "id": "9d1911c6"
      },
      "source": [
        "### Q2: A New Discovery\n",
        "During one of our regular stargazing sessions, you and your co-conveners discover a new blip of light that shouldn't be there. After examining it a bit, you realise that this object is not quite like anything the world has seen before. You share your data with club seniors and make a startling find - its the first of its kind of a completely new class of objects. An ex-secy of the club, Siddhant Tripathy, analyses it extensively and declares that its actually the first ever **endoplanet** to be found. You and your team are now international celebrities, but its time to organise an event so that people from insti can see this.\n",
        "\n",
        "Your task is to find out when exactly Tripps' endoplanet would be at its brightest and organise a stargazing session on that date so that everyone can see it for themselves. You have data from a month of observations of this object and you need to extrapolate it to find the peak."
      ]
    },
    {
      "cell_type": "code",
      "execution_count": null,
      "id": "9e7d5141",
      "metadata": {
        "id": "9e7d5141"
      },
      "outputs": [],
      "source": [
        "file2 = 'Dataset_Q2.csv'"
      ]
    },
    {
      "cell_type": "markdown",
      "id": "99dc43d3",
      "metadata": {
        "id": "99dc43d3"
      },
      "source": [
        "According to your analysis, this object is in a special orbit that gives it a roughly Gaussian light curve i.e. the plot of [magnitude](https://en.wikipedia.org/wiki/Apparent_magnitude) v/s time roughly follows an inverted Gaussian function. Recall that a generic Gaussian function with unit amplitude is given by\n",
        "\n",
        "$$f(x) = \\frac{1}{\\sigma\\sqrt{2\\pi}}\\exp\\left({-\\frac{1}{2}{\\left(\\frac{x-\\mu}{\\sigma}\\right)}^2}\\right)$$ \n",
        "\n",
        "where $\\mu$ is the mean of the distribution it describes and $\\sigma$ is the standard deviation. More about it [here](https://archive.lib.msu.edu/crcmath/math/math/g/g087.htm).\n",
        "\n",
        "Your task is to find the date at which the comet will be at it's brightest, along with how bright its expected to be. Also plot the original data along with the fitted curve.\n",
        "\n",
        "You can do this by fitting a gaussian to the light curve data and locating its extremum. You may find `scipy.optimize.curve_fit` useful. \n",
        "\n",
        "**Important** : Our fit function must be a Gaussian with a vertical offset. The problem is that `curve_fit` tends to misbehave in this particular example when you ask it to guess that offset, so assume it to be $9.0$ to solve this problem. This, of course, implies that the baseline magnitude of the object is $9.0$"
      ]
    },
    {
      "cell_type": "code",
      "execution_count": null,
      "id": "cf3750af",
      "metadata": {
        "id": "cf3750af"
      },
      "outputs": [],
      "source": [
        "mags = []\n",
        "with open(\"Dataset_Q2.csv\",\"r\",newline = '\\n') as f:\n",
        "  r = csv.reader(f)\n",
        "  for i in r:\n",
        "    if i[2]=='Magnitude':    #excluding heading row\n",
        "      continue\n",
        "    mags.append(float(i[2][0:4]))   #original data is in string, first four characters store magnitude, like 8.86\n",
        "\n",
        "t = [i for i in range(1,31)]   #time in days\n",
        "\n",
        "def g(x, s, m, a):\n",
        "  y = 9 - a*e**(-((x-m)/s)**2/2)\n",
        "  return y\n",
        "\n",
        "params, covar = curve_fit(g, t, mags)\n",
        "\n",
        "sd = params[0]\n",
        "mean = params[1]\n",
        "amp = params[2]\n",
        "\n",
        "gy = g(t, sd, mean, amp)\n",
        "\n",
        "covs = np.sqrt(np.diag(covar))\n",
        "\n",
        "print (\"Day when brightest: \", date(year=2021, month=5, day=12) + timedelta(days=np.round(mean)))\n",
        "print(\"Standard deviation in date: \", covs[1])\n",
        "\n",
        "plt.plot(t, mags, 'o-', label='data')\n",
        "plt.plot(t, gy, '-', label='fit')\n",
        "plt.xlabel(\"Days since first observed\")\n",
        "plt.ylabel(\"Apparent Magnitude\")\n",
        "plt.legend()\n"
      ]
    },
    {
      "cell_type": "markdown",
      "id": "13da0dc1",
      "metadata": {
        "id": "13da0dc1"
      },
      "source": [
        "#### Bonus part:\n",
        "\n",
        "Can this date be trusted? We wouldn't want to claim the comet is the brightest on a particular day and then have it brighten up even more later. Try to ascertain the error in this predicted date. Read the documentation of `curve_fit` and try to understand the statistical significance of the quantities it returns."
      ]
    },
    {
      "cell_type": "code",
      "execution_count": null,
      "id": "08d245f9",
      "metadata": {
        "id": "08d245f9"
      },
      "outputs": [],
      "source": [
        "# Included in the previous cell\n"
      ]
    }
  ],
  "metadata": {
    "kernelspec": {
      "display_name": "Python 3",
      "language": "python",
      "name": "python3"
    },
    "language_info": {
      "codemirror_mode": {
        "name": "ipython",
        "version": 3
      },
      "file_extension": ".py",
      "mimetype": "text/x-python",
      "name": "python",
      "nbconvert_exporter": "python",
      "pygments_lexer": "ipython3",
      "version": "3.8.8"
    },
    "colab": {
      "name": "Problem_Statement.ipynb",
      "provenance": []
    }
  },
  "nbformat": 4,
  "nbformat_minor": 5
}